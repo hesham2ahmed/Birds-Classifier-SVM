{
 "cells": [
  {
   "cell_type": "markdown",
   "metadata": {
    "colab_type": "text",
    "id": "oICzKO4-aJm0"
   },
   "source": [
    "**Imports**"
   ]
  },
  {
   "cell_type": "code",
   "execution_count": 0,
   "metadata": {
    "colab": {},
    "colab_type": "code",
    "id": "3iMpTXk5HI6w"
   },
   "outputs": [],
   "source": [
    "import numpy as np\n",
    "import pandas as pd\n",
    "import matplotlib.pyplot as plt\n",
    "from tensorflow.keras.preprocessing.image import ImageDataGenerator\n",
    "from tensorflow.keras.preprocessing.image import img_to_array , load_img\n",
    "import tensorflow.compat.v1 as tf\n",
    "tf.disable_v2_behavior()\n",
    "from os import listdir"
   ]
  },
  {
   "cell_type": "markdown",
   "metadata": {
    "colab_type": "text",
    "id": "OZvuf5s-aQS4"
   },
   "source": [
    "**Preprocessing**"
   ]
  },
  {
   "cell_type": "code",
   "execution_count": 0,
   "metadata": {
    "colab": {},
    "colab_type": "code",
    "id": "6ZbWTAADuy3f"
   },
   "outputs": [],
   "source": [
    "path = 'drive/My Drive/Colab Notebooks/CUB_200_2011/'\n",
    "data_path = 'drive/My Drive/Colab Notebooks/CUB_200_2011' \n",
    "df_images = pd.read_csv(path + 'images.txt',sep=' ',header = None,names = ['img_num','img'])\n",
    "df_labels = pd.read_csv(path + 'image_class_labels.txt',sep = ' ',header = None,names = ['img_num','class_id'])\n",
    "df_classes = pd.read_csv(path + 'classes.txt',sep = ' ',header = None,names=['class_id','bird_class'])\n",
    "df_split = pd.read_csv(path + 'train_test_split.txt',sep = ' ', header = None, names = ['img_num','dataset'])\n",
    "\n",
    "df = pd.merge(df_images, df_labels, on = 'img_num', how = 'inner')\n",
    "df = pd.merge(df, df_classes, on = 'class_id',how = 'inner')\n",
    "df = pd.merge(df, df_split, on = 'img_num',how = 'inner')\n"
   ]
  },
  {
   "cell_type": "code",
   "execution_count": 0,
   "metadata": {
    "colab": {},
    "colab_type": "code",
    "id": "gtHG_dl4ukVc"
   },
   "outputs": [],
   "source": [
    "birds = ['020.Yellow_breasted_Chat','158.Bay_breasted_Warbler',\n",
    "       '159.Black_and_white_Warbler', '160.Black_throated_Blue_Warbler',\n",
    "       '161.Blue_winged_Warbler', '162.Canada_Warbler',\n",
    "       '163.Cape_May_Warbler', '164.Cerulean_Warbler',\n",
    "       '165.Chestnut_sided_Warbler', '166.Golden_winged_Warbler',\n",
    "       '167.Hooded_Warbler', '168.Kentucky_Warbler',\n",
    "       '169.Magnolia_Warbler', '170.Mourning_Warbler',\n",
    "       '171.Myrtle_Warbler', '172.Nashville_Warbler',\n",
    "       '173.Orange_crowned_Warbler', '174.Palm_Warbler',\n",
    "       '175.Pine_Warbler', '176.Prairie_Warbler',\n",
    "       '177.Prothonotary_Warbler', '178.Swainson_Warbler',\n",
    "       '179.Tennessee_Warbler', '180.Wilson_Warbler',\n",
    "       '181.Worm_eating_Warbler', '182.Yellow_Warbler',\n",
    "       '183.Northern_Waterthrush', '184.Louisiana_Waterthrush', '200.Common_Yellowthroat']\n",
    "df['output_label'] = (df.bird_class.isin(birds)).astype('int')\n",
    "df = df.sample(n = len(df) , random_state=42)\n",
    "df_train_l1 = df.sample(frac=0.8 , random_state=42)\n",
    "df_valid = df.drop(df_train_l1.index)\n",
    "Warblers_images =  df_train_l1.loc[df_train_l1.output_label== 1 ,'img'].values"
   ]
  },
  {
   "cell_type": "code",
   "execution_count": 0,
   "metadata": {
    "colab": {},
    "colab_type": "code",
    "id": "-zQijelsu859"
   },
   "outputs": [],
   "source": [
    "\n",
    "for bird in Warblers_images :\n",
    "  img = load_img(path + 'images/'+bird)\n",
    "  img = img_to_array(img)\n",
    "  img = np.expand_dims(img , axis=0)\n",
    "\n",
    "  batch_size = 2\n",
    "  train_datagen = ImageDataGenerator(\n",
    "        rescale=1./255,\n",
    "        shear_range=0.2,\n",
    "        zoom_range=0.2,\n",
    "        horizontal_flip=True,\n",
    "        fill_mode = 'nearest'\n",
    "    )\n",
    "\n",
    "  train_generator = train_datagen.flow(\n",
    "        img,\n",
    "        batch_size=batch_size,\n",
    "        save_to_dir = path+'images/aug_warblers',\n",
    "        save_prefix = 'image',\n",
    "        save_format='.jpg'\n",
    "  )"
   ]
  },
  {
   "cell_type": "code",
   "execution_count": 0,
   "metadata": {
    "colab": {},
    "colab_type": "code",
    "id": "rfwnTOZZvIhq"
   },
   "outputs": [],
   "source": [
    "warbler_aug_files = ['aug_warblers/'+ a for a in listdir(path + 'images/aug_warblers') if a.endswith('.jpg')]\n",
    "df_aug = pd.DataFrame({'img':warbler_aug_files, 'outputlabel': [1]*len(warbler_aug_files) })\n",
    "\n",
    "df_con = pd.concat([df_train_l1[['img','output_label']],df_aug],\n",
    "                 axis = 0, ignore_index = True, sort = False)\n",
    "\n",
    "rows_pos = df_con.output_label == 1\n",
    "df_postive = df_con.loc[rows_pos]\n",
    "df_negative = df_con.loc[~rows_pos]\n",
    "\n",
    "y=min([len(df_postive),len(df_negative)])\n",
    "df_train = pd.concat([df_postive.sample(n = y,random_state = 42), \n",
    "                      df_negative.sample(n = y, random_state = 42)], \n",
    "                     axis = 0)\n",
    "df_train = df_train.sample(frac = 1, random_state = 42)\n",
    "\n",
    "IMG_SIZE = 225\n",
    "def crt_img(df):\n",
    "    imgs = np.ndarray(shape = (len(df), IMG_SIZE, IMG_SIZE,3), dtype = np.float32)\n",
    "    for ii in range(len(df)):\n",
    "        file = df.img.values[ii]\n",
    "        img = load_img(path+'images/'+file, target_size=(IMG_SIZE, IMG_SIZE),color_mode='rgb')\n",
    "        img = img_to_array(img)/255\n",
    "        imgs[ii] = img\n",
    "    return imgs\n",
    "\n",
    "x_train = crt_img(df_train)\n",
    "x_test = crt_img(df_valid)\n",
    "\n",
    "y_train = df_train.output_label.values\n",
    "y_test = df_valid.output_label.values\n",
    "\n",
    "x_train = x_train.reshape(x_train.shape[0], IMG_SIZE,IMG_SIZE, 3)\n",
    "x_test= x_test.reshape(x_test.shape[0], IMG_SIZE,IMG_SIZE, 3)"
   ]
  },
  {
   "cell_type": "code",
   "execution_count": 162,
   "metadata": {
    "colab": {
     "base_uri": "https://localhost:8080/",
     "height": 84
    },
    "colab_type": "code",
    "executionInfo": {
     "elapsed": 961,
     "status": "ok",
     "timestamp": 1588996190678,
     "user": {
      "displayName": "Hesham Ahmed",
      "photoUrl": "https://lh3.googleusercontent.com/a-/AOh14GjEyFgU7OHOhvUSH3QNtDJ3Xr4u4Q0LondsYckAcg=s64",
      "userId": "10908363268300312881"
     },
     "user_tz": -120
    },
    "id": "ypGzXl3ePOKh",
    "outputId": "16751133-add1-4ac9-e94f-5e4c191aa2a8"
   },
   "outputs": [
    {
     "name": "stdout",
     "output_type": "stream",
     "text": [
      "2770\n",
      "2358\n",
      "(225, 225, 3)\n",
      "(225, 225, 3)\n"
     ]
    }
   ],
   "source": [
    "print(len(x_train))\n",
    "print(len(x_test))\n",
    "print(x_train[0].shape)\n",
    "print(x_test[0].shape)"
   ]
  },
  {
   "cell_type": "code",
   "execution_count": 163,
   "metadata": {
    "colab": {
     "base_uri": "https://localhost:8080/",
     "height": 50
    },
    "colab_type": "code",
    "executionInfo": {
     "elapsed": 1604,
     "status": "ok",
     "timestamp": 1588996194600,
     "user": {
      "displayName": "Hesham Ahmed",
      "photoUrl": "https://lh3.googleusercontent.com/a-/AOh14GjEyFgU7OHOhvUSH3QNtDJ3Xr4u4Q0LondsYckAcg=s64",
      "userId": "10908363268300312881"
     },
     "user_tz": -120
    },
    "id": "NXmEKxBpJEfC",
    "outputId": "68720f3d-43e5-4030-d923-c9701e3e60aa"
   },
   "outputs": [
    {
     "name": "stdout",
     "output_type": "stream",
     "text": [
      "float32\n",
      "(151875,)\n"
     ]
    }
   ],
   "source": [
    "x_train = x_train.reshape(len(x_train), 225 * 225 * 3)\n",
    "x_test = x_test.reshape(len(x_test), 225 * 225 * 3)\n",
    "print(x_train.dtype)\n",
    "print(x_train[0].shape)"
   ]
  },
  {
   "cell_type": "markdown",
   "metadata": {
    "colab_type": "text",
    "id": "ShgnblinalpN"
   },
   "source": [
    "# ****SVM****"
   ]
  },
  {
   "cell_type": "code",
   "execution_count": 0,
   "metadata": {
    "colab": {},
    "colab_type": "code",
    "id": "gZSh24tcJ_jM"
   },
   "outputs": [],
   "source": [
    "# Conversion to one hot vector is for the loss function\n",
    "sess = tf.Session()\n",
    "y_train = sess.run(tf.one_hot(y_train , 2)) \n",
    "y_test = sess.run(tf.one_hot(y_test, 2))\n",
    "sess.close()"
   ]
  },
  {
   "cell_type": "code",
   "execution_count": 165,
   "metadata": {
    "colab": {
     "base_uri": "https://localhost:8080/",
     "height": 33
    },
    "colab_type": "code",
    "executionInfo": {
     "elapsed": 934,
     "status": "ok",
     "timestamp": 1588996201715,
     "user": {
      "displayName": "Hesham Ahmed",
      "photoUrl": "https://lh3.googleusercontent.com/a-/AOh14GjEyFgU7OHOhvUSH3QNtDJ3Xr4u4Q0LondsYckAcg=s64",
      "userId": "10908363268300312881"
     },
     "user_tz": -120
    },
    "id": "vYdVGcWVTWDt",
    "outputId": "e5dff1ba-55b1-410a-ac64-0c7e1ccc8123"
   },
   "outputs": [
    {
     "name": "stdout",
     "output_type": "stream",
     "text": [
      "[1. 0.]\n"
     ]
    }
   ],
   "source": [
    "print(y_train[3])"
   ]
  },
  {
   "cell_type": "code",
   "execution_count": 166,
   "metadata": {
    "colab": {
     "base_uri": "https://localhost:8080/",
     "height": 33
    },
    "colab_type": "code",
    "executionInfo": {
     "elapsed": 942,
     "status": "ok",
     "timestamp": 1588996205407,
     "user": {
      "displayName": "Hesham Ahmed",
      "photoUrl": "https://lh3.googleusercontent.com/a-/AOh14GjEyFgU7OHOhvUSH3QNtDJ3Xr4u4Q0LondsYckAcg=s64",
      "userId": "10908363268300312881"
     },
     "user_tz": -120
    },
    "id": "Z3dO87YJKASC",
    "outputId": "47443cc9-a7bb-43a4-a329-a39dc026c68f"
   },
   "outputs": [
    {
     "name": "stdout",
     "output_type": "stream",
     "text": [
      "10\n"
     ]
    }
   ],
   "source": [
    "# hyperparameters\n",
    "learning_rate = 0.1\n",
    "epochs = 30\n",
    "batch_size = 277  \n",
    "batches = int(x_train.shape[0] / batch_size)\n",
    "print(batches)"
   ]
  },
  {
   "cell_type": "code",
   "execution_count": 0,
   "metadata": {
    "colab": {},
    "colab_type": "code",
    "id": "dwZsgNi-DBkz"
   },
   "outputs": [],
   "source": [
    "# X is our \"flattened / normalized\" images\n",
    "# Y is our \"one hot\" labels\n",
    "X = tf.placeholder(tf.float32, [None, 225 * 225 * 3 ])\n",
    "Y = tf.placeholder(tf.float32, [None, 2 ])\n",
    "\n",
    "# weights and bias\n",
    "# weights convert X to same shape as Y\n",
    "# bias is the same shape as Y\n",
    "W = tf.Variable(tf.truncated_normal([ 225 * 225 * 3 , 2]))\n",
    "B = tf.Variable(tf.zeros(2))\n",
    "# W,B variables are the things we are going to train for (variables = learned values)\n",
    "# X,Y placeholders are input data ( images and labels)"
   ]
  },
  {
   "cell_type": "code",
   "execution_count": 0,
   "metadata": {
    "colab": {},
    "colab_type": "code",
    "id": "vl2d1PmADdtC"
   },
   "outputs": [],
   "source": [
    "# Declare model stucture\n",
    "# model_output is the predicted scores of each class (prediction)\n",
    "model_output = tf.matmul(X, W) + B"
   ]
  },
  {
   "cell_type": "code",
   "execution_count": 0,
   "metadata": {
    "colab": {},
    "colab_type": "code",
    "id": "HcUn0MLWDpBF"
   },
   "outputs": [],
   "source": [
    "# Declare loss function\n",
    "# L2 regularization parameter, alpha\n",
    "\n",
    "alpha = tf.constant([0.01])\n",
    "delta = tf.constant([1.0], tf.float32)\n",
    "\n",
    "# Declare vector L2 'norm' function squared\n",
    "#alpha * tf.reduce_sum(tf.reduce_sum(tf.square(W), axis=1))\n",
    "regulation_term = alpha * tf.nn.l2_loss(W) \n",
    "\n",
    "# Margin term in loss \n",
    "# S_truelabel is the score of the correct class (y sub i)in the equation\n",
    "S_truelabel = tf.reduce_sum(tf.multiply(Y,model_output),axis=1 ,keepdims=True)\n",
    "loss = tf.reduce_mean(tf.reduce_sum(tf.maximum(0.0, model_output - S_truelabel + delta), 1) - delta )\n",
    "loss += regulation_term"
   ]
  },
  {
   "cell_type": "code",
   "execution_count": 0,
   "metadata": {
    "colab": {},
    "colab_type": "code",
    "id": "DgTL5d0DD19U"
   },
   "outputs": [],
   "source": [
    "# Declare the optimizer for optimizing the loss function\n",
    "optimizer = tf.train.GradientDescentOptimizer(learning_rate).minimize(loss)"
   ]
  },
  {
   "cell_type": "code",
   "execution_count": 0,
   "metadata": {
    "colab": {},
    "colab_type": "code",
    "id": "_4HgEZSvD22D"
   },
   "outputs": [],
   "source": [
    "#Accuracy Function  \n",
    "def accuracy(predictions, labels):\n",
    "    return (100.0 * np.sum(np.argmax(predictions, 1) == np.argmax(labels, 1))\n",
    "            / predictions.shape[0])"
   ]
  },
  {
   "cell_type": "code",
   "execution_count": 172,
   "metadata": {
    "colab": {
     "base_uri": "https://localhost:8080/",
     "height": 604
    },
    "colab_type": "code",
    "executionInfo": {
     "elapsed": 91153,
     "status": "ok",
     "timestamp": 1588996339808,
     "user": {
      "displayName": "Hesham Ahmed",
      "photoUrl": "https://lh3.googleusercontent.com/a-/AOh14GjEyFgU7OHOhvUSH3QNtDJ3Xr4u4Q0LondsYckAcg=s64",
      "userId": "10908363268300312881"
     },
     "user_tz": -120
    },
    "id": "rR7wywcwD5hk",
    "outputId": "298fad4b-ecdc-4af2-cfda-217350864201"
   },
   "outputs": [
    {
     "name": "stdout",
     "output_type": "stream",
     "text": [
      "epoch:0 loss=[2437.2817] Acc=48.375451263537904\n",
      "epoch:1 loss=[2300.4866] Acc=47.292418772563174\n",
      "epoch:2 loss=[2044.7328] Acc=46.931407942238266\n",
      "epoch:3 loss=[1821.7028] Acc=49.09747292418773\n",
      "epoch:4 loss=[1693.3085] Acc=51.624548736462096\n",
      "epoch:5 loss=[1655.5879] Acc=52.707581227436826\n",
      "epoch:6 loss=[1592.0505] Acc=53.42960288808664\n",
      "epoch:7 loss=[1502.9607] Acc=57.40072202166065\n",
      "epoch:8 loss=[1481.7478] Acc=57.03971119133574\n",
      "epoch:9 loss=[1472.7488] Acc=55.234657039711195\n",
      "epoch:10 loss=[1483.053] Acc=54.51263537906137\n",
      "epoch:11 loss=[1453.3417] Acc=55.5956678700361\n",
      "epoch:12 loss=[1460.3274] Acc=55.95667870036101\n",
      "epoch:13 loss=[1406.1384] Acc=56.31768953068592\n",
      "epoch:14 loss=[1392.3147] Acc=57.761732851985556\n",
      "epoch:15 loss=[1377.043] Acc=57.40072202166065\n",
      "epoch:16 loss=[1426.1182] Acc=54.151624548736464\n",
      "epoch:17 loss=[1427.1902] Acc=54.151624548736464\n",
      "epoch:18 loss=[1391.3516] Acc=53.42960288808664\n",
      "epoch:19 loss=[1432.0302] Acc=51.624548736462096\n",
      "epoch:20 loss=[1386.979] Acc=52.707581227436826\n",
      "epoch:21 loss=[1378.8218] Acc=52.707581227436826\n",
      "epoch:22 loss=[1334.6953] Acc=54.151624548736464\n",
      "epoch:23 loss=[1318.5408] Acc=54.51263537906137\n",
      "epoch:24 loss=[1325.8918] Acc=52.707581227436826\n",
      "epoch:25 loss=[1305.8445] Acc=52.34657039711191\n",
      "epoch:26 loss=[1321.5837] Acc=52.34657039711191\n",
      "epoch:27 loss=[1300.6819] Acc=53.068592057761734\n",
      "epoch:28 loss=[1287.2045] Acc=53.42960288808664\n",
      "epoch:29 loss=[1299.1096] Acc=52.34657039711191\n",
      "Test Accuracy =  83.7150127226463\n"
     ]
    },
    {
     "data": {
      "image/png": "[encoded data removed]",
      "text/plain": [
       "<Figure size 576x288 with 10 Axes>"
      ]
     },
     "metadata": {
      "needs_background": "light",
      "tags": []
     },
     "output_type": "display_data"
    }
   ],
   "source": [
    "#Train the model\n",
    "with tf.Session() as sesh:\n",
    "    sesh.run(tf.global_variables_initializer())\n",
    "    \n",
    "    for epoch in range(epochs):\n",
    "        for i in range(batches):\n",
    "            offset = i * epoch\n",
    "            x = x_train[offset: offset + batch_size]\n",
    "            y = y_train[offset: offset + batch_size]\n",
    "            sesh.run(optimizer, feed_dict={X: x, Y:y})\n",
    "            c = sesh.run(loss, feed_dict={X:x, Y:y})\n",
    "        #print model accuracy per after each 3 epoch\n",
    "        if epoch % 1 == 0 :\n",
    "            acc = accuracy(sesh.run(model_output,feed_dict={X: x, Y:y}), y)\n",
    "            print(f'epoch:{epoch} loss={c} Acc={acc}')\n",
    "            \n",
    "    # Test the model\n",
    "    #Run the model on the test set and print accuracy \n",
    "    print('Test Accuracy = ', accuracy(sesh.run(model_output,feed_dict={X: x_test, Y:y_test}),y_test))    \n",
    "    fig, axes = plt.subplots(1, 10, figsize=(8, 4))\n",
    "    for img, ax in zip(x_test[:10], axes):\n",
    "        guess = np.argmax(sesh.run(model_output, feed_dict={X: [img]}))\n",
    "        ax.set_title(guess)\n",
    "        ax.imshow(img.reshape((225, 225, 3)))\n",
    "        ax.axis('off')"
   ]
  }
 ],
 "metadata": {
  "colab": {
   "authorship_tag": "ABX9TyO/SqLe+WcFOS+u16k/9DL2",
   "collapsed_sections": [],
   "mount_file_id": "1MiK0oA8oGvSDidxIsgUtPNb69w3MNTUE",
   "name": "SVM Classifier.ipynb",
   "provenance": []
  },
  "kernelspec": {
   "display_name": "Python 3",
   "language": "python",
   "name": "python3"
  },
  "language_info": {
   "codemirror_mode": {
    "name": "ipython",
    "version": 3
   },
   "file_extension": ".py",
   "mimetype": "text/x-python",
   "name": "python",
   "nbconvert_exporter": "python",
   "pygments_lexer": "ipython3",
   "version": "3.7.6"
  }
 },
 "nbformat": 4,
 "nbformat_minor": 1
}
